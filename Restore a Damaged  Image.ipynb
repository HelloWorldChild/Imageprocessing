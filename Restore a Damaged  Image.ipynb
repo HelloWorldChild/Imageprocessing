{
 "cells": [
  {
   "cell_type": "code",
   "execution_count": 8,
   "id": "a2b7b4cd",
   "metadata": {},
   "outputs": [],
   "source": [
    "import cv2"
   ]
  },
  {
   "cell_type": "code",
   "execution_count": 2,
   "id": "bd170277",
   "metadata": {},
   "outputs": [],
   "source": [
    "im1=cv2.imread(\"Images/1.jpg\")#damaged image\n",
    "im2=cv2.imread(\"Images/1copy.jpg\")#original image"
   ]
  },
  {
   "cell_type": "code",
   "execution_count": 3,
   "id": "2d1c4782",
   "metadata": {},
   "outputs": [],
   "source": [
    "#extracting the mask of the damaged area using subtract() by subtracting im1 from im2\n",
    "img = cv2.subtract(im2,im1)\n",
    "#converting the obtained grayscale image to grayscale\n",
    "gray_image = cv2.cvtColor(img, cv2.COLOR_BGR2GRAY)\n",
    "#converting that grayscale image to binary\n",
    "ret, bw_img = cv2.threshold(gray_image ,50, 255, cv2.THRESH_BINARY)"
   ]
  },
  {
   "cell_type": "code",
   "execution_count": 4,
   "id": "fd1a9943",
   "metadata": {},
   "outputs": [],
   "source": [
    "cv2.imshow('images',im1)#damaged\n",
    "cv2.imshow('images2',im2)#original\n",
    "cv2.imshow('images3',img)#masking\n",
    "cv2.imshow('images4',bw_img)#binary mask\n",
    "cv2.imwrite(\"Images/masked.jpg\",bw_img)#saving that binary mask\n",
    "cv2.waitKey(0)\n",
    "cv2.destroyAllWindows()"
   ]
  },
  {
   "cell_type": "code",
   "execution_count": 1,
   "id": "64cb2090",
   "metadata": {},
   "outputs": [
    {
     "data": {
      "text/plain": [
       "True"
      ]
     },
     "execution_count": 1,
     "metadata": {},
     "output_type": "execute_result"
    }
   ],
   "source": [
    "import numpy as np\n",
    "import cv2\n",
    "img = cv2.imread('Images/1.jpg')\n",
    "mask = cv2.imread('Images/masked.jpg', 0)\n",
    "dst = cv2.inpaint(img, mask, 3, cv2.INPAINT_NS)\n",
    "cv2.imwrite('cat_inpainted.png', dst)"
   ]
  },
  {
   "cell_type": "code",
   "execution_count": null,
   "id": "121c4770",
   "metadata": {},
   "outputs": [],
   "source": []
  }
 ],
 "metadata": {
  "kernelspec": {
   "display_name": "Python 3 (ipykernel)",
   "language": "python",
   "name": "python3"
  },
  "language_info": {
   "codemirror_mode": {
    "name": "ipython",
    "version": 3
   },
   "file_extension": ".py",
   "mimetype": "text/x-python",
   "name": "python",
   "nbconvert_exporter": "python",
   "pygments_lexer": "ipython3",
   "version": "3.9.7"
  }
 },
 "nbformat": 4,
 "nbformat_minor": 5
}
