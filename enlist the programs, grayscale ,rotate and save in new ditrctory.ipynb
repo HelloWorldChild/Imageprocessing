{
 "cells": [
  {
   "cell_type": "code",
   "execution_count": 2,
   "id": "8226a5e5",
   "metadata": {},
   "outputs": [],
   "source": [
    "import cv2\n",
    "import glob\n",
    "path=\"D:/sidharth/images/*.*\"\n",
    "images=[cv2.imread(images,0) for images in\n",
    "glob.glob(path)]\n",
    "for i in range(len(images)):\n",
    "     cv2.imshow('images',images[i])\n",
    "     cv2.waitKey(0)\n",
    "     cv2.destroyAllWindows()\n",
    "     images[i] = cv2.rotate(images[i] ,cv2.ROTATE_90_CLOCKWISE)\n",
    "     cv2.imwrite('C:/Users/User/Downloads/newImages/Image'+str(i)+'.png',images[i])   \n",
    "\n",
    "        "
   ]
  },
  {
   "cell_type": "code",
   "execution_count": null,
   "id": "a1bf6491",
   "metadata": {},
   "outputs": [],
   "source": []
  }
 ],
 "metadata": {
  "kernelspec": {
   "display_name": "Python 3 (ipykernel)",
   "language": "python",
   "name": "python3"
  },
  "language_info": {
   "codemirror_mode": {
    "name": "ipython",
    "version": 3
   },
   "file_extension": ".py",
   "mimetype": "text/x-python",
   "name": "python",
   "nbconvert_exporter": "python",
   "pygments_lexer": "ipython3",
   "version": "3.9.7"
  }
 },
 "nbformat": 4,
 "nbformat_minor": 5
}
