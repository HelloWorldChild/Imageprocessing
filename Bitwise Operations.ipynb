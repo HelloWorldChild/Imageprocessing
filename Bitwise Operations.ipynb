{
 "cells": [
  {
   "cell_type": "code",
   "execution_count": 5,
   "id": "09885ff3",
   "metadata": {},
   "outputs": [],
   "source": [
    "#bitwise and\n",
    "import cv2\n",
    "\n",
    "im1 = cv2.imread(\"C:/Users/User/Downloads/Image processing/bina1.png\")\n",
    "col, rows,_ = im1.shape  \n",
    "\n",
    "im2 = cv2.imread(\"C:/Users/User/Downloads/Image processing/bina2.png\")\n",
    "im2 = cv2.resize(im2, (rows, col)) \n",
    "bit_and = cv2.bitwise_and(im1, im2)\n",
    "cv2.imshow('im2', bit_and)  \n",
    "cv2.waitKey(0)\n",
    "cv2.destroyAllWindows()\n"
   ]
  },
  {
   "cell_type": "code",
   "execution_count": 2,
   "id": "b24210e6",
   "metadata": {},
   "outputs": [],
   "source": [
    "#bitwise or\n",
    "import cv2\n",
    "\n",
    "im1 = cv2.imread(\"C:/Users/User/Downloads/Image processing/bina1.png\")\n",
    "col, rows,_ = im1.shape  \n",
    "\n",
    "im2 = cv2.imread(\"C:/Users/User/Downloads/Image processing/bina2.png\")\n",
    "im2 = cv2.resize(im2, (rows, col)) \n",
    "bit_or = cv2.bitwise_or(im1, im2)\n",
    "cv2.imshow('im2', bit_or)  \n",
    "cv2.waitKey(0)\n",
    "cv2.destroyAllWindows()"
   ]
  },
  {
   "cell_type": "code",
   "execution_count": 6,
   "id": "f5d9c5c2",
   "metadata": {},
   "outputs": [],
   "source": [
    "#bitwise xor\n",
    "import cv2\n",
    "\n",
    "im1 = cv2.imread(\"C:/Users/User/Downloads/Image processing/bina1.png\")\n",
    "col, rows,_ = im1.shape  \n",
    "\n",
    "im2 = cv2.imread(\"C:/Users/User/Downloads/Image processing/bina2.png\")\n",
    "im2 = cv2.resize(im2, (rows, col)) \n",
    "bit_xor = cv2.bitwise_xor(im1, im2)\n",
    "cv2.imshow('im2', bit_xor)  \n",
    "cv2.waitKey(0)\n",
    "cv2.destroyAllWindows()"
   ]
  },
  {
   "cell_type": "code",
   "execution_count": 4,
   "id": "8d2ef854",
   "metadata": {},
   "outputs": [],
   "source": [
    "#bitwise or\n",
    "import cv2\n",
    "\n",
    "im1 = cv2.imread(\"C:/Users/User/Downloads/Image processing/bina1.png\")\n",
    "col, rows,_ = im1.shape  \n",
    "\n",
    "im2 = cv2.imread(\"C:/Users/User/Downloads/Image processing/bina2.png\")\n",
    "im2 = cv2.resize(im2, (rows, col)) \n",
    "bit_not = cv2.bitwise_not(im1, im2)\n",
    "cv2.imshow('im2', bit_not)  \n",
    "cv2.waitKey(0)\n",
    "cv2.destroyAllWindows()"
   ]
  },
  {
   "cell_type": "code",
   "execution_count": null,
   "id": "e6985461",
   "metadata": {},
   "outputs": [],
   "source": []
  }
 ],
 "metadata": {
  "kernelspec": {
   "display_name": "Python 3 (ipykernel)",
   "language": "python",
   "name": "python3"
  },
  "language_info": {
   "codemirror_mode": {
    "name": "ipython",
    "version": 3
   },
   "file_extension": ".py",
   "mimetype": "text/x-python",
   "name": "python",
   "nbconvert_exporter": "python",
   "pygments_lexer": "ipython3",
   "version": "3.9.7"
  }
 },
 "nbformat": 4,
 "nbformat_minor": 5
}
