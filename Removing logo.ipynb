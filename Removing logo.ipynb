{
 "cells": [
  {
   "cell_type": "code",
   "execution_count": null,
   "id": "e5fe4a6d",
   "metadata": {},
   "outputs": [],
   "source": [
    "import numpy as np"
   ]
  },
  {
   "cell_type": "code",
   "execution_count": null,
   "id": "87ace90b",
   "metadata": {},
   "outputs": [],
   "source": [
    "import matplotlib.pyplot as plt\n",
    "import pandas as pd\n",
    "from skimage.restoration import inpaint\n",
    "from skimage.transform import resize\n",
    "from skimage import color"
   ]
  },
  {
   "cell_type": "code",
   "execution_count": null,
   "id": "3642acb7",
   "metadata": {},
   "outputs": [],
   "source": [
    "image_with_logo=plt.imread('Images/logo.jpg')\n",
    "mask=np.zeros(image_with_logo.shape[:-1])\n",
    "mask[200:410,400:610]=1"
   ]
  },
  {
   "cell_type": "code",
   "execution_count": null,
   "id": "7220c124",
   "metadata": {},
   "outputs": [],
   "source": [
    "image_logo_removed=inpaint.inpaint_biharmonic(image_with_logo, \n",
    "mask,multichannel=True)"
   ]
  },
  {
   "cell_type": "code",
   "execution_count": null,
   "id": "365dbe64",
   "metadata": {},
   "outputs": [],
   "source": [
    "plt.title('image with logo')\n",
    "plt.imshow(image_with_logo)\n",
    "plt.show()\n",
    "plt.title('image without logo')\n",
    "plt.imshow(image_logo_removed)\n",
    "plt.show()"
   ]
  }
 ],
 "metadata": {
  "kernelspec": {
   "display_name": "Python 3 (ipykernel)",
   "language": "python",
   "name": "python3"
  },
  "language_info": {
   "codemirror_mode": {
    "name": "ipython",
    "version": 3
   },
   "file_extension": ".py",
   "mimetype": "text/x-python",
   "name": "python",
   "nbconvert_exporter": "python",
   "pygments_lexer": "ipython3",
   "version": "3.9.7"
  }
 },
 "nbformat": 4,
 "nbformat_minor": 5
}
