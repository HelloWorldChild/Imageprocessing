{
 "cells": [
  {
   "cell_type": "code",
   "execution_count": 1,
   "id": "b5a76725",
   "metadata": {},
   "outputs": [
    {
     "name": "stdout",
     "output_type": "stream",
     "text": [
      "Size of image before pyrUp:  (580, 1070, 3)\n",
      "Size of image after pyrUp:  (1160, 2140, 3)\n"
     ]
    }
   ],
   "source": [
    "#upSampling\n",
    "import cv2\n",
    "\n",
    "image = cv2.imread('C:/Users/User/Downloads/Image processing/photo.webp')\n",
    "print(\"Size of image before pyrUp: \", image.shape)\n",
    "cv2.imshow(\"im1\",image)\n",
    "cv2.waitKey(0)\n",
    "cv2.destroyAllWindows()\n",
    "image = cv2.pyrUp(image)\n",
    "print(\"Size of image after pyrUp: \", image.shape)\n",
    "cv2.imshow('UpSample', image)\n",
    "cv2.waitKey(0)\n",
    "cv2.destroyAllWindows()"
   ]
  },
  {
   "cell_type": "code",
   "execution_count": 2,
   "id": "489487d8",
   "metadata": {},
   "outputs": [
    {
     "name": "stdout",
     "output_type": "stream",
     "text": [
      "Size of image before pyrUp:  (580, 1070, 3)\n",
      "Size of image after pyrUp:  (290, 535, 3)\n"
     ]
    }
   ],
   "source": [
    "#DownSampling\n",
    "import cv2\n",
    "\n",
    "image = cv2.imread('C:/Users/User/Downloads/Image processing/photo.webp')\n",
    "print(\"Size of image before pyrUp: \", image.shape)\n",
    "cv2.imshow(\"im1\",image)\n",
    "cv2.waitKey(0)\n",
    "cv2.destroyAllWindows()\n",
    "image = cv2.pyrDown(image)\n",
    "print(\"Size of image after pyrUp: \", image.shape)\n",
    "cv2.imshow('UpSample', image)\n",
    "cv2.waitKey(0)\n",
    "cv2.destroyAllWindows()"
   ]
  },
  {
   "cell_type": "code",
   "execution_count": null,
   "id": "07a3d45a",
   "metadata": {},
   "outputs": [],
   "source": []
  }
 ],
 "metadata": {
  "kernelspec": {
   "display_name": "Python 3 (ipykernel)",
   "language": "python",
   "name": "python3"
  },
  "language_info": {
   "codemirror_mode": {
    "name": "ipython",
    "version": 3
   },
   "file_extension": ".py",
   "mimetype": "text/x-python",
   "name": "python",
   "nbconvert_exporter": "python",
   "pygments_lexer": "ipython3",
   "version": "3.9.7"
  }
 },
 "nbformat": 4,
 "nbformat_minor": 5
}
