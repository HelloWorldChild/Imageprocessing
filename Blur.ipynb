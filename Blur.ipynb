{
 "cells": [
  {
   "cell_type": "code",
   "execution_count": 8,
   "id": "36eac66b",
   "metadata": {},
   "outputs": [],
   "source": [
    "import cv2"
   ]
  },
  {
   "cell_type": "code",
   "execution_count": 9,
   "id": "36e29eca",
   "metadata": {},
   "outputs": [],
   "source": [
    "image = cv2.imread('Images/land.jpg')"
   ]
  },
  {
   "cell_type": "code",
   "execution_count": 10,
   "id": "f1b62c09",
   "metadata": {},
   "outputs": [],
   "source": [
    "cv2.imshow( 'image',image)\n",
    "cv2.waitKey(0)\n",
    "cv2.destroyAllWindows()\n"
   ]
  },
  {
   "cell_type": "code",
   "execution_count": 11,
   "id": "08a70d8c",
   "metadata": {},
   "outputs": [],
   "source": [
    "window_name = 'Image'\n",
    "ksize = (10,10)  \n",
    "image = cv2.blur(image, ksize) \n",
    "cv2.imwrite('Images/image104.jpg',image)\n",
    "cv2.imshow(window_name, image) \n",
    "cv2.waitKey(0)\n",
    "cv2.destroyAllWindows()"
   ]
  },
  {
   "cell_type": "code",
   "execution_count": null,
   "id": "21d3d905",
   "metadata": {},
   "outputs": [],
   "source": []
  }
 ],
 "metadata": {
  "kernelspec": {
   "display_name": "Python 3 (ipykernel)",
   "language": "python",
   "name": "python3"
  },
  "language_info": {
   "codemirror_mode": {
    "name": "ipython",
    "version": 3
   },
   "file_extension": ".py",
   "mimetype": "text/x-python",
   "name": "python",
   "nbconvert_exporter": "python",
   "pygments_lexer": "ipython3",
   "version": "3.9.7"
  }
 },
 "nbformat": 4,
 "nbformat_minor": 5
}
