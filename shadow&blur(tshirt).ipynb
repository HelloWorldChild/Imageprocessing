{
 "cells": [
  {
   "cell_type": "code",
   "execution_count": 12,
   "id": "aed7c8bb",
   "metadata": {},
   "outputs": [],
   "source": [
    "#using PIl\n",
    "from PIL import Image\n",
    "from PIL import ImageDraw\n",
    "\n",
    "im=Image.open('images/RICK.jpg')\n",
    "dra=ImageDraw.Draw(im)\n",
    "dra.text((100,100),\"NEVER GONNA GIVE YOU UP\",fill=(25,180,90),align=\"left\")\n",
    "im.show()"
   ]
  },
  {
   "cell_type": "code",
   "execution_count": 7,
   "id": "2f69bb83",
   "metadata": {},
   "outputs": [],
   "source": [
    "#using Opencv\n",
    "import cv2\n",
    "\n",
    "im1=cv2.imread('images/RICK.jpg')\n",
    "image=im1\n",
    "text='NEVER GONNA LET YOU DOWN'\n",
    "pos=(750,1000)\n",
    "font=6\n",
    "size=2\n",
    "color=(255,0,0)\n",
    "line=cv2.LINE_8\n",
    "im2=cv2.putText(image,text,pos,font,size,color,line)\n",
    "cv2.imshow('im2',im2)\n",
    "cv2.waitKey(0)\n",
    "cv2.destroyAllWindows()"
   ]
  },
  {
   "cell_type": "code",
   "execution_count": 44,
   "id": "25bd5810",
   "metadata": {},
   "outputs": [
    {
     "name": "stdout",
     "output_type": "stream",
     "text": [
      "enter the image name:images/RICK.jpg\n"
     ]
    }
   ],
   "source": [
    "#drawing on a t shirt with user input of image\n",
    "\n",
    "import cv2\n",
    "\n",
    "im=input(\"enter the image name:\")\n",
    "im1= cv2.imread(im)\n",
    "im1.shape\n",
    "cv2.putText(im1,\"G\",(161,185),7,2.6,(175,175,175),cv2.LINE_4)\n",
    "cv2.putText(im1,\"o\",(201,185),7,2.6,(175,175,175),cv2.LINE_4)\n",
    "cv2.putText(im1,\"o\",(234,185),7,2.6,(175,175,175),cv2.LINE_4)\n",
    "cv2.putText(im1,\"g\",(265,185),7,2.6,(175,175,175),cv2.LINE_4)\n",
    "cv2.putText(im1,\"l\",(306,185),7,2.6,(175,175,175),cv2.LINE_4)\n",
    "cv2.putText(im1,\"e\",(323,185),7,2.6,(175,175,175),cv2.LINE_4)\n",
    "cv2.putText(im1,\"G\",(157,185),7,2.6,(255,155,0),cv2.LINE_4)\n",
    "cv2.putText(im1,\"o\",(197,185),7,2.6,(0,0,255),cv2.LINE_4)\n",
    "cv2.putText(im1,\"o\",(230,185),7,2.6,(0,180,255),cv2.LINE_4)\n",
    "cv2.putText(im1,\"g\",(261,185),7,2.6,(255,155,0),cv2.LINE_4)\n",
    "cv2.putText(im1,\"l\",(302,185),7,2.6,(0,159,67),cv2.LINE_4)\n",
    "cv2.putText(im1,\"e\",(319,185),7,2.6,(8,6,255),cv2.LINE_4)\n",
    "\n",
    "cv2.imwrite(\"C:/Users/User/Downloads/Image processing/googleshirt.png\",im1)\n",
    "cv2.imshow(\"I1\",im1)\n",
    "cv2.waitKey(0)\n",
    "cv2.destroyAllWindows()\n"
   ]
  },
  {
   "cell_type": "code",
   "execution_count": 39,
   "id": "2b58573c",
   "metadata": {
    "scrolled": true
   },
   "outputs": [],
   "source": [
    "import cv2\n",
    "\n",
    "im1= cv2.imread('images/white shirt.png',1)#shirt with logo\n",
    "im1_c= cv2.imread('images/white shirt.png',1)#plain shirt\n",
    "im1.shape\n",
    "text=cv2.putText(im1,\"G\",(161,185),7,2.6,(200,200,200),cv2.LINE_4),\n",
    "cv2.putText(im1,\"o\",(201,185),6,2.6,(200,200,200),cv2.LINE_4),\n",
    "cv2.putText(im1,\"o\",(234,185),7,2.6,(200,200,200),cv2.LINE_4),\n",
    "cv2.putText(im1,\"g\",(265,185),7,2.6,(200,200,200),cv2.LINE_4),\n",
    "cv2.putText(im1,\"l\",(306,185),7,2.6,(200,200,200),cv2.LINE_4),\n",
    "cv2.putText(im1,\"e\",(323,185),7,2.6,(200,200,200),cv2.LINE_4),\n",
    "cv2.putText(im1,\"G\",(157,185),7,2.6,(255,95,0),cv2.LINE_4),\n",
    "cv2.putText(im1,\"o\",(197,185),7,2.6,(0,0,255),cv2.LINE_4),\n",
    "cv2.putText(im1,\"o\",(230,185),7,2.6,(0,180,255),cv2.LINE_4),\n",
    "cv2.putText(im1,\"g\",(261,185),7,2.6,(250,145,0),cv2.LINE_4),\n",
    "cv2.putText(im1,\"l\",(302,185),7,2.6,(8,179,67),cv2.LINE_4),\n",
    "cv2.putText(im1,\"e\",(319,185),7,2.6,(8,6,255),cv2.LINE_4)\n",
    "extract=cv2.subtract(im1_c,im1) #extracting logo from shirt\n",
    "ksize=(2,2)\n",
    "blur=cv2.blur(extract,ksize)#blurring the logo\n",
    "added=cv2.subtract(im1_c,blur)#adding the blurred logo to tshirt\n",
    "\n",
    "\n",
    "cv2.imshow(\"I3\",added)\n",
    "cv2.imshow(\"I2\",im1)\n",
    "cv2.imshow(\"I1\",im1_c)\n",
    "cv2.waitKey(0)\n",
    "cv2.destroyAllWindows()\n"
   ]
  },
  {
   "cell_type": "code",
   "execution_count": 1,
   "id": "5641b023",
   "metadata": {},
   "outputs": [],
   "source": [
    "#user input of image using dialog box\n",
    "import cv2\n",
    "from tkinter import filedialog\n",
    "from tkinter import *\n",
    "\n",
    "root = Tk()\n",
    "root.filename =  filedialog.askopenfilename(initialdir = \"C:/\",title = \"Select file\",filetypes = ((\"jpeg files\",\"*.jpg\"),(\"all files\",\"*.*\")))\n",
    "im1= cv2.imread(root.filename)\n",
    "cv2.putText(im1,\"G\",(161,185),7,2.6,(175,175,175),cv2.LINE_4)\n",
    "cv2.putText(im1,\"o\",(201,185),7,2.6,(175,175,175),cv2.LINE_4)\n",
    "cv2.putText(im1,\"o\",(234,185),7,2.6,(175,175,175),cv2.LINE_4)\n",
    "cv2.putText(im1,\"g\",(265,185),7,2.6,(175,175,175),cv2.LINE_4)\n",
    "cv2.putText(im1,\"l\",(306,185),7,2.6,(175,175,175),cv2.LINE_4)\n",
    "cv2.putText(im1,\"e\",(323,185),7,2.6,(175,175,175),cv2.LINE_4)\n",
    "cv2.putText(im1,\"G\",(157,185),7,2.6,(255,155,0),cv2.LINE_4)\n",
    "cv2.putText(im1,\"o\",(197,185),7,2.6,(0,0,255),cv2.LINE_4)\n",
    "cv2.putText(im1,\"o\",(230,185),7,2.6,(0,180,255),cv2.LINE_4)\n",
    "cv2.putText(im1,\"g\",(261,185),7,2.6,(255,155,0),cv2.LINE_4)\n",
    "cv2.putText(im1,\"l\",(302,185),7,2.6,(0,159,67),cv2.LINE_4)\n",
    "cv2.putText(im1,\"e\",(319,185),7,2.6,(8,6,255),cv2.LINE_4)\n",
    "\n",
    "cv2.imshow(\"I1\",im1)\n",
    "cv2.waitKey(0)\n",
    "cv2.destroyAllWindows()"
   ]
  },
  {
   "cell_type": "code",
   "execution_count": null,
   "id": "6f314cb4",
   "metadata": {},
   "outputs": [],
   "source": []
  }
 ],
 "metadata": {
  "kernelspec": {
   "display_name": "Python 3 (ipykernel)",
   "language": "python",
   "name": "python3"
  },
  "language_info": {
   "codemirror_mode": {
    "name": "ipython",
    "version": 3
   },
   "file_extension": ".py",
   "mimetype": "text/x-python",
   "name": "python",
   "nbconvert_exporter": "python",
   "pygments_lexer": "ipython3",
   "version": "3.9.7"
  }
 },
 "nbformat": 4,
 "nbformat_minor": 5
}
